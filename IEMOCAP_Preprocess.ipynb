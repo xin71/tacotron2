{
 "cells": [
  {
   "cell_type": "code",
   "execution_count": 1,
   "metadata": {},
   "outputs": [],
   "source": [
    "import os\n",
    "import glob\n",
    "import random\n",
    "import soundfile as sf\n"
   ]
  },
  {
   "cell_type": "markdown",
   "metadata": {},
   "source": [
    "## Helper function to generate file list for Tacotron2"
   ]
  },
  {
   "cell_type": "code",
   "execution_count": 2,
   "metadata": {},
   "outputs": [],
   "source": [
    "CUT = 12 # 12s\n",
    "SR = 16000 \n",
    "\n",
    "def check_audio_length(path):\n",
    "    audio, _ = sf.read(path)\n",
    "    if len(audio) < (CUT * SR):\n",
    "        return True\n",
    "    else:\n",
    "        return False"
   ]
  },
  {
   "cell_type": "code",
   "execution_count": 3,
   "metadata": {},
   "outputs": [],
   "source": [
    "def random_sample(used_path, all_path):\n",
    "    all_path.remove(used_path)\n",
    "    path = random.sample(all_path, 1)[0]\n",
    "    while True:\n",
    "        if check_audio_length(path) == False:\n",
    "            path = random.sample(all_path, 1)[0]\n",
    "        else:\n",
    "            return path"
   ]
  },
  {
   "cell_type": "markdown",
   "metadata": {},
   "source": [
    "## Generate dataset dicts"
   ]
  },
  {
   "cell_type": "code",
   "execution_count": 4,
   "metadata": {
    "scrolled": true
   },
   "outputs": [],
   "source": [
    "rootdir = '/data3/IEMOCAP/IEMOCAP_full_release'\n",
    "\n",
    "\n",
    "def emo_script(wav_dir, trans_dir):\n",
    "    trans_map = {}\n",
    "    skipped_cnt = 0\n",
    "    for sess_path in sorted(glob.glob(wav_dir)):\n",
    "        sess = sess_path.split('/')[-1]\n",
    "        trans_path = os.path.join(trans_dir, sess +'.txt')\n",
    "        with open(trans_path, 'r') as file:\n",
    "            while True:\n",
    "                line = file.readline()\n",
    "                if not line:\n",
    "                    break\n",
    "                if line[0] == 'S':\n",
    "                    split_line = line.split(':')\n",
    "                    transcript = split_line[-1][1:-2]\n",
    "                    wav_file_name = split_line[0].split()[0]\n",
    "                    wav_name = wav_file_name +'.wav'\n",
    "                    try: # filter out wavname like Ses03F_impro06_MXX1\n",
    "                        x = int(wav_file_name[-3:])\n",
    "                    except:\n",
    "                        continue\n",
    "                    wav_path = str(os.path.join(sess_path, wav_name))\n",
    "                    speaker_sess_id = wav_name.split('.')[0][:-3]\n",
    "                    speaker_sess_path = str(os.path.join(sess_path, speaker_sess_id))\n",
    "                    all_same_wav = glob.glob(speaker_sess_path + '*.wav')\n",
    "                    sampled_path = random_sample(wav_path, all_same_wav)\n",
    "                    y, _ = sf.read(wav_path)\n",
    "                    y_alt, _ = sf.read(sampled_path)\n",
    "                    if len(y) >= SR * CUT:\n",
    "                        skipped_cnt += 1\n",
    "                        continue\n",
    "                    trans_map[wav_path] = [transcript, sampled_path]\n",
    "    print('Number of Skipped files: ', skipped_cnt)\n",
    "    return trans_map\n",
    "\n",
    "def dict2list(test_dict, flag):\n",
    "    output = []\n",
    "    for key, value in test_dict.items():\n",
    "        if flag == 0:\n",
    "            s = key + '|' + value[0] + '\\n'\n",
    "        else:\n",
    "            s = value[1] + '|' + 'nothing is here' + '\\n'\n",
    "        output.append(s)\n",
    "    return output\n",
    "\n",
    "\n",
    "# Test Code\n",
    "# wav_dir = os.path.join(rootdir, 'Session4', 'sentences/wav/*')\n",
    "# trans_dir = os.path.join(rootdir, 'Session4', 'dialog/transcriptions')\n",
    "# trans_dict = emo_script(wav_dir, trans_dir)\n"
   ]
  },
  {
   "cell_type": "markdown",
   "metadata": {},
   "source": [
    "## Generating .txt files for train, val, test"
   ]
  },
  {
   "cell_type": "code",
   "execution_count": 5,
   "metadata": {
    "scrolled": false
   },
   "outputs": [
    {
     "name": "stdout",
     "output_type": "stream",
     "text": [
      "Number of Skipped files:  74\n",
      "Number of Skipped files:  63\n",
      "Number of Skipped files:  44\n",
      "Number of Skipped files:  54\n",
      "Number of Skipped files:  77\n"
     ]
    }
   ],
   "source": [
    "session_list = ['Session1', 'Session2', 'Session3', 'Session4', 'Session5']\n",
    "\n",
    "for session in session_list:\n",
    "    wav_dir = os.path.join(rootdir, session, 'sentences/wav/*')\n",
    "    trans_dir = os.path.join(rootdir, session, 'dialog/transcriptions')\n",
    "    if session == 'Session4':\n",
    "        val_dict = emo_script(wav_dir, trans_dir)\n",
    "        val_output = dict2list(val_dict, 0)\n",
    "        val_output_alt = dict2list(val_dict, 1)\n",
    "        with open('filelists/IEMOCAP/val_filelist.txt', 'w') as file:\n",
    "            file.writelines(val_output)\n",
    "        with open('filelists/IEMOCAP/val_filelist_alt.txt', 'w') as file:\n",
    "            file.writelines(val_output_alt)\n",
    "    elif session == 'Session5':\n",
    "        test_dict = emo_script(wav_dir, trans_dir)\n",
    "        test_output = dict2list(test_dict, 0)\n",
    "        test_output_alt = dict2list(test_dict, 1)\n",
    "        with open('filelists/IEMOCAP/test_filelist.txt', 'w') as file:\n",
    "            file.writelines(test_output)\n",
    "        with open('filelists/IEMOCAP/test_filelist_alt.txt', 'w') as file:\n",
    "            file.writelines(test_output_alt)\n",
    "    else:\n",
    "        train_dict = emo_script(wav_dir, trans_dir)\n",
    "        train_output = dict2list(train_dict, 0)\n",
    "        train_output_alt = dict2list(train_dict, 1)\n",
    "        with open('filelists/IEMOCAP/train_filelist.txt', 'a') as file:\n",
    "            file.writelines(train_output)\n",
    "        with open('filelists/IEMOCAP/train_filelist_alt.txt', 'a') as file:\n",
    "            file.writelines(train_output_alt)"
   ]
  },
  {
   "cell_type": "markdown",
   "metadata": {},
   "source": [
    "## Quality Check"
   ]
  },
  {
   "cell_type": "code",
   "execution_count": 6,
   "metadata": {
    "scrolled": false
   },
   "outputs": [
    {
     "name": "stdout",
     "output_type": "stream",
     "text": [
      "Finish Checking\n"
     ]
    }
   ],
   "source": [
    "original_path = './filelists/IEMOCAP'\n",
    "for ftype in ['train', 'val', 'test']:\n",
    "    file_path = original_path + '/' + ftype + '_filelist.txt'\n",
    "    alt_path = original_path + '/' + ftype + '_filelist_alt.txt'\n",
    "    with open(file_path, 'r') as a, open(alt_path, 'r') as b:\n",
    "        content_a = a.readlines()\n",
    "        content_b = b.readlines()\n",
    "        for line_a, line_b in zip(content_a, content_b):\n",
    "            path_wav_a = line_a.split('|')[0]\n",
    "            path_wav_b = line_b.split('|')[0]\n",
    "            \n",
    "            if path_wav_a.split('.')[0][-4] == path_wav_b.split('.')[0][-4] \\\n",
    "                and line_a.split('|')[0] != line_b.split('|')[0] and check_audio_length(path_wav_a) \\\n",
    "                    and check_audio_length(path_wav_b):\n",
    "                continue\n",
    "            else:\n",
    "                print('==============================')\n",
    "                print('something wrong')\n",
    "                print('ftype', ftype)\n",
    "                print(line_a.split('|')[0].split('.')[0][-4])\n",
    "                print(line_b.split('|')[0].split('.')[0][-4])\n",
    "                print(line_a.split('|')[0])\n",
    "                print(line_b.split('|')[0])\n",
    "                print('==============================')\n",
    "print('Finish Checking')\n",
    "    "
   ]
  },
  {
   "cell_type": "markdown",
   "metadata": {},
   "source": [
    "## Checking the number"
   ]
  },
  {
   "cell_type": "code",
   "execution_count": 7,
   "metadata": {},
   "outputs": [
    {
     "name": "stdout",
     "output_type": "stream",
     "text": [
      "Check the numbers!\n",
      "5585\n",
      "2049\n",
      "2093\n",
      "====================\n",
      "5585\n",
      "2049\n",
      "2093\n"
     ]
    }
   ],
   "source": [
    "num_lines_train = sum(1 for line in open('filelists/IEMOCAP/train_filelist.txt'))\n",
    "num_lines_val = sum(1 for line in open('filelists/IEMOCAP/val_filelist.txt'))\n",
    "num_lines_test = sum(1 for line in open('filelists/IEMOCAP/test_filelist.txt'))\n",
    "num_lines_train_alt = sum(1 for line in open('filelists/IEMOCAP/train_filelist_alt.txt'))\n",
    "num_lines_val_alt = sum(1 for line in open('filelists/IEMOCAP/val_filelist_alt.txt'))\n",
    "num_lines_test_alt = sum(1 for line in open('filelists/IEMOCAP/test_filelist_alt.txt'))\n",
    "\n",
    "print('Check the numbers!')\n",
    "print(num_lines_train)\n",
    "print(num_lines_val)\n",
    "print(num_lines_test)\n",
    "print('====================')\n",
    "print(num_lines_train_alt)\n",
    "print(num_lines_val_alt)\n",
    "print(num_lines_test_alt)"
   ]
  },
  {
   "cell_type": "code",
   "execution_count": 8,
   "metadata": {},
   "outputs": [],
   "source": [
    "# Train count:  5788\n",
    "# Valid count:  2103\n",
    "# Test count:  2194\n",
    "# total count:  10085\n"
   ]
  },
  {
   "cell_type": "markdown",
   "metadata": {},
   "source": [
    "## Playground"
   ]
  }
 ],
 "metadata": {
  "kernelspec": {
   "display_name": "taco",
   "language": "python",
   "name": "myenv"
  },
  "language_info": {
   "codemirror_mode": {
    "name": "ipython",
    "version": 3
   },
   "file_extension": ".py",
   "mimetype": "text/x-python",
   "name": "python",
   "nbconvert_exporter": "python",
   "pygments_lexer": "ipython3",
   "version": "3.6.9"
  }
 },
 "nbformat": 4,
 "nbformat_minor": 2
}
