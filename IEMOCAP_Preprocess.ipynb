{
 "cells": [
  {
   "cell_type": "code",
   "execution_count": 1,
   "metadata": {
    "collapsed": true
   },
   "outputs": [],
   "source": [
    "import os\n",
    "import glob"
   ]
  },
  {
   "cell_type": "markdown",
   "metadata": {},
   "source": [
    "## Building Training dataset"
   ]
  },
  {
   "cell_type": "code",
   "execution_count": 24,
   "metadata": {
    "scrolled": true
   },
   "outputs": [],
   "source": [
    "# def emo_script(wav_dir, trans_dir):\n",
    "#     trans_map = {}\n",
    "#     for sess in os.listdir(wav_dir):\n",
    "#         if sess[0] == 'S':\n",
    "#             trans_path = trans_dir + \"/\" + sess + '.txt'\n",
    "#             with open(trans_path, 'r') as trans_to_read:\n",
    "#                 while True:\n",
    "#                     line = trans_to_read.readline()\n",
    "#                     if not line:\n",
    "#                         break\n",
    "#                     if line[0] == 'S':\n",
    "#                         split_line = line.split(':')\n",
    "#                         transcript = split_line[-1][1:-2]\n",
    "#                         wav_name = split_line[0].split()[0]\n",
    "#                         wav_path = str(os.path.join(wav_dir, sess, wav_name))\n",
    "#                         trans_map[wav_path] = transcript                        \n",
    "#     return trans_map\n",
    "\n",
    "# rootdir = '/data3/IEMOCAP/IEMOCAP_full_release'\n",
    "# wav_dir = os.path.join(rootdir, 'Session1', 'sentences/wav/*')\n",
    "# trans_dir = os.path.join(rootdir, 'Session1', 'dialog/transcriptions')\n",
    "# print('wav_dir', wav_dir)\n",
    "# print('trans_dir', trans_dir)\n",
    "# trans_dict = emo_script(wav_dir, trans_dir)"
   ]
  },
  {
   "cell_type": "markdown",
   "metadata": {},
   "source": [
    "## Helper function to generate file list for Tacotron2"
   ]
  },
  {
   "cell_type": "code",
   "execution_count": 29,
   "metadata": {},
   "outputs": [],
   "source": [
    "rootdir = '/data3/IEMOCAP/IEMOCAP_full_release'\n",
    "\n",
    "def emo_script(wav_dir, trans_dir):\n",
    "    trans_map = {}\n",
    "    for sess_path in sorted(glob.glob(wav_dir)):\n",
    "        sess = sess_path.split('/')[-1]\n",
    "        trans_path = os.path.join(trans_dir, sess +'.txt')\n",
    "        with open(trans_path, 'r') as file:\n",
    "            while True:\n",
    "                line = file.readline()\n",
    "                if not line:\n",
    "                    break\n",
    "                if line[0] == 'S':\n",
    "                    split_line = line.split(':')\n",
    "                    transcript = split_line[-1][1:-2]\n",
    "                    wav_name = split_line[0].split()[0]\n",
    "                    wav_path = str(os.path.join(sess_path, wav_name))\n",
    "                    trans_map[wav_path] = transcript\n",
    "    return trans_map\n",
    "\n",
    "def dict2list(test_dict):\n",
    "    output = []\n",
    "    for key, value in test_dict.items():\n",
    "        s = key + '|' + value + '\\n'\n",
    "        output.append(s)\n",
    "    return output\n",
    "\n",
    "\n",
    "wav_dir = os.path.join(rootdir, 'Session1', 'sentences/wav/*')\n",
    "trans_dir = os.path.join(rootdir, 'Session1', 'dialog/transcriptions')\n",
    "trans_dict = emo_script(wav_dir, trans_dir)"
   ]
  },
  {
   "cell_type": "markdown",
   "metadata": {},
   "source": [
    "## Generating .txt files for train, val, test"
   ]
  },
  {
   "cell_type": "code",
   "execution_count": 33,
   "metadata": {
    "scrolled": false
   },
   "outputs": [],
   "source": [
    "session_list = ['Session1', 'Session2', 'Session3', 'Session4', 'Session5']\n",
    "\n",
    "for session in session_list:\n",
    "    wav_dir = os.path.join(rootdir, session, 'sentences/wav/*')\n",
    "    trans_dir = os.path.join(rootdir, session, 'dialog/transcriptions')\n",
    "    if session == 'Session4':\n",
    "        val_dict = emo_script(wav_dir, trans_dir)\n",
    "        val_output = dict2list(val_dict)\n",
    "        with open('filelists/IEMOCAP/val_filelist.txt', 'w') as file:\n",
    "            file.writelines(val_output)\n",
    "    elif session == 'Session5':\n",
    "        test_dict = emo_script(wav_dir, trans_dir)\n",
    "        test_output = dict2list(test_dict)\n",
    "        with open('filelists/IEMOCAP/test_filelist.txt', 'w') as file:\n",
    "            file.writelines(test_output)\n",
    "    else:\n",
    "        train_dict = emo_script(wav_dir, trans_dir)\n",
    "        train_output = dict2list(train_dict)\n",
    "        with open('filelists/IEMOCAP/train_filelist.txt', 'a') as file:\n",
    "            file.writelines(train_output)"
   ]
  },
  {
   "cell_type": "markdown",
   "metadata": {},
   "source": [
    "## Checking the number"
   ]
  },
  {
   "cell_type": "code",
   "execution_count": 34,
   "metadata": {},
   "outputs": [
    {
     "name": "stdout",
     "output_type": "stream",
     "text": [
      "5788\n",
      "2103\n",
      "2194\n"
     ]
    }
   ],
   "source": [
    "num_lines_train = sum(1 for line in open('filelists/IEMOCAP/train_filelist.txt'))\n",
    "num_lines_val = sum(1 for line in open('filelists/IEMOCAP/val_filelist.txt'))\n",
    "num_lines_test = sum(1 for line in open('filelists/IEMOCAP/test_filelist.txt'))\n",
    "\n",
    "print(num_lines_train)\n",
    "print(num_lines_val)\n",
    "print(num_lines_test)"
   ]
  },
  {
   "cell_type": "code",
   "execution_count": 58,
   "metadata": {},
   "outputs": [
    {
     "name": "stdout",
     "output_type": "stream",
     "text": [
      "Train count:  5788\n",
      "Valid count:  2103\n",
      "Test count:  2194\n",
      "total count:  10085\n"
     ]
    }
   ],
   "source": [
    "rootdir = '/data3/IEMOCAP/IEMOCAP_full_release'\n",
    "save_path = '/filelists/IEMOCAP/'\n",
    "total_count = 0\n",
    "train_sess = ['Session1', 'Session2', 'Session3']\n",
    "valid_sess = ['Session4']\n",
    "test_sess = ['Session5']\n",
    "train_dict = {}\n",
    "valid_dict = {}\n",
    "test_dict = {}\n",
    "for speaker in ['Session1', 'Session2', 'Session3', 'Session4', 'Session5']:\n",
    "    wav_dir = os.path.join(rootdir, speaker, 'sentences/wav')\n",
    "    trans_dir = os.path.join(rootdir, speaker, 'dialog/transcriptions')\n",
    "    emo_dir = os.path.join(rootdir, speaker, 'dialog/EmoEvaluation')\n",
    "    speaker_dict = emo_script(wav_dir, trans_dir)\n",
    "    if speaker in train_sess:\n",
    "        train_dict.update(speaker_dict)\n",
    "    elif speaker in valid_sess:\n",
    "        valid_dict.update(speaker_dict)\n",
    "    else:\n",
    "        test_dict.update(speaker_dict)\n",
    "\n",
    "print('Train count: ', len(train_dict.keys()))\n",
    "print('Valid count: ', len(valid_dict.keys()))\n",
    "print('Test count: ', len(test_dict.keys()))\n",
    "\n",
    "print('total count: ', len(train_dict.keys()) + len(valid_dict.keys()) + len(test_dict.keys()))\n"
   ]
  },
  {
   "cell_type": "code",
   "execution_count": null,
   "metadata": {
    "collapsed": true
   },
   "outputs": [],
   "source": []
  },
  {
   "cell_type": "code",
   "execution_count": 53,
   "metadata": {},
   "outputs": [
    {
     "name": "stdout",
     "output_type": "stream",
     "text": [
      "yes\n"
     ]
    }
   ],
   "source": []
  },
  {
   "cell_type": "code",
   "execution_count": null,
   "metadata": {
    "collapsed": true
   },
   "outputs": [],
   "source": []
  }
 ],
 "metadata": {
  "kernelspec": {
   "display_name": "Python 3",
   "language": "python",
   "name": "python3"
  },
  "language_info": {
   "codemirror_mode": {
    "name": "ipython",
    "version": 3
   },
   "file_extension": ".py",
   "mimetype": "text/x-python",
   "name": "python",
   "nbconvert_exporter": "python",
   "pygments_lexer": "ipython3",
   "version": "3.6.8"
  }
 },
 "nbformat": 4,
 "nbformat_minor": 2
}
