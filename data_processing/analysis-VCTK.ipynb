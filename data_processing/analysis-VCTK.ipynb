{
 "cells": [
  {
   "cell_type": "code",
   "execution_count": 1,
   "metadata": {
    "collapsed": true
   },
   "outputs": [],
   "source": [
    "import os\n",
    "import glob\n",
    "import soundfile as sf\n",
    "import librosa\n",
    "import random \n",
    "\n",
    "DATA_PATH = '/data3/VCTK/VCTK-Corpus/wav48'\n",
    "TXT_PATH = '/data3/VCTK/VCTK-Corpus/txt'\n",
    "\n",
    "ALL_PATH = sorted(glob.glob(os.path.join(DATA_PATH, '*/*.wav')))\n",
    "ALL_TXT_PATH = sorted(glob.glob(os.path.join(TXT_PATH, '*/*.txt')))\n",
    "SR = 16000\n",
    "CUT = 12"
   ]
  },
  {
   "cell_type": "code",
   "execution_count": 21,
   "metadata": {
    "collapsed": true
   },
   "outputs": [],
   "source": [
    "# data, sr = sf.read('/data3/VCTK/VCTK-Corpus/wav48/p225/p225_001_backup.wav')\n",
    "# print('sr', sr)"
   ]
  },
  {
   "cell_type": "markdown",
   "metadata": {},
   "source": [
    "## Rewrite all the audio to 16k"
   ]
  },
  {
   "cell_type": "code",
   "execution_count": 20,
   "metadata": {
    "collapsed": true
   },
   "outputs": [],
   "source": [
    "# for path in ALL_PATH:\n",
    "#     y, sr = librosa.load(path, sr=48000)\n",
    "#     y_16k = librosa.resample(y, sr, 16000)\n",
    "#     librosa.output.write_wav(path, y_16k, 16000)"
   ]
  },
  {
   "cell_type": "code",
   "execution_count": 2,
   "metadata": {},
   "outputs": [
    {
     "name": "stdout",
     "output_type": "stream",
     "text": [
      "Scanned all the files\n"
     ]
    }
   ],
   "source": [
    "for path in ALL_PATH:\n",
    "    data, sr = sf.read(path)\n",
    "    if sr != 16000:\n",
    "        print('Something is wrong')\n",
    "print('Scanned all the files')"
   ]
  },
  {
   "cell_type": "markdown",
   "metadata": {},
   "source": [
    "## Add files to the train list"
   ]
  },
  {
   "cell_type": "code",
   "execution_count": 17,
   "metadata": {
    "collapsed": true
   },
   "outputs": [],
   "source": [
    "def read_text(path):\n",
    "    with open(path, 'r') as f:\n",
    "        line = f.readline()\n",
    "        if '\\n' in line:\n",
    "            return line\n",
    "        else:\n",
    "            line = line + '\\n'\n",
    "            return line\n",
    "\n",
    "    \n",
    "def check_audio_length(path):\n",
    "    audio, _ = sf.read(path)\n",
    "    if len(audio) < (CUT * SR):\n",
    "        return True\n",
    "    else:\n",
    "        return False\n",
    "\n",
    "    \n",
    "def random_sample(used_path, all_path):\n",
    "    all_path.remove(used_path)\n",
    "    path = random.sample(all_path, 1)[0]\n",
    "    while True:\n",
    "        if check_audio_length(path) == False:\n",
    "            path = random.sample(all_path, 1)[0]\n",
    "        else:\n",
    "            return path"
   ]
  },
  {
   "cell_type": "code",
   "execution_count": 18,
   "metadata": {
    "collapsed": true
   },
   "outputs": [],
   "source": [
    "train_path = '/home/xliu0/workspace/tacotron2/filelists/train_filelist_vctk.txt'\n",
    "train_alt_path = '/home/xliu0/workspace/tacotron2/filelists/train_filelist_alt.txt'\n",
    "# train_path = '/home/xliu0/workspace/tacotron2/filelists/IEMOCAP/test.txt'\n",
    "# train_alt_path = '/home/xliu0/workspace/tacotron2/filelists/IEMOCAP/test_alt.txt'\n",
    "\n",
    "for path, txt_path in zip(ALL_PATH, ALL_TXT_PATH):\n",
    "    if path.split('/')[-1].split('.')[0] == txt_path.split('/')[-1].split('.')[0]:  \n",
    "        # read data\n",
    "        data, sr = sf.read(path)\n",
    "        if len(data) > (SR * CUT):\n",
    "            continue\n",
    "        else:\n",
    "            \n",
    "            with open(train_path, 'a') as f1, open(train_alt_path, 'a') as f2:\n",
    "                # Write into train file:\n",
    "                s1 = path + '|' + read_text(txt_path)\n",
    "                f1.write(s1)\n",
    "                # Write into alt file \n",
    "                data_folder_path = path.split('/')[:-1]\n",
    "                data_folder_path = '/'.join(data_folder_path)\n",
    "                all_wav_data_folder = sorted(glob.glob(data_folder_path + '/*.wav'))\n",
    "                alt_wav_path = random_sample(path, all_wav_data_folder)\n",
    "                alt_txt_path = alt_wav_path.split('/')\n",
    "                alt_txt_path[4] = 'txt'\n",
    "                alt_txt_path = '/'.join(alt_txt_path).split('.')[0] + '.txt'\n",
    "                s2 = alt_wav_path + '|' + read_text(alt_txt_path)\n",
    "                f2.write(s2)                      \n"
   ]
  }
 ],
 "metadata": {
  "kernelspec": {
   "display_name": "taco",
   "language": "python",
   "name": "myenv"
  },
  "language_info": {
   "codemirror_mode": {
    "name": "ipython",
    "version": 3
   },
   "file_extension": ".py",
   "mimetype": "text/x-python",
   "name": "python",
   "nbconvert_exporter": "python",
   "pygments_lexer": "ipython3",
   "version": "3.6.9"
  }
 },
 "nbformat": 4,
 "nbformat_minor": 2
}
