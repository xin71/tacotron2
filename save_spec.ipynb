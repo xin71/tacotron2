{
 "cells": [
  {
   "cell_type": "code",
   "execution_count": 1,
   "metadata": {},
   "outputs": [
    {
     "name": "stderr",
     "output_type": "stream",
     "text": [
      "/home/xliu0/anaconda3/envs/taco/lib/python3.6/site-packages/tensorflow/python/framework/dtypes.py:517: FutureWarning: Passing (type, 1) or '1type' as a synonym of type is deprecated; in a future version of numpy, it will be understood as (type, (1,)) / '(1,)type'.\n",
      "  _np_qint8 = np.dtype([(\"qint8\", np.int8, 1)])\n",
      "/home/xliu0/anaconda3/envs/taco/lib/python3.6/site-packages/tensorflow/python/framework/dtypes.py:518: FutureWarning: Passing (type, 1) or '1type' as a synonym of type is deprecated; in a future version of numpy, it will be understood as (type, (1,)) / '(1,)type'.\n",
      "  _np_quint8 = np.dtype([(\"quint8\", np.uint8, 1)])\n",
      "/home/xliu0/anaconda3/envs/taco/lib/python3.6/site-packages/tensorflow/python/framework/dtypes.py:519: FutureWarning: Passing (type, 1) or '1type' as a synonym of type is deprecated; in a future version of numpy, it will be understood as (type, (1,)) / '(1,)type'.\n",
      "  _np_qint16 = np.dtype([(\"qint16\", np.int16, 1)])\n",
      "/home/xliu0/anaconda3/envs/taco/lib/python3.6/site-packages/tensorflow/python/framework/dtypes.py:520: FutureWarning: Passing (type, 1) or '1type' as a synonym of type is deprecated; in a future version of numpy, it will be understood as (type, (1,)) / '(1,)type'.\n",
      "  _np_quint16 = np.dtype([(\"quint16\", np.uint16, 1)])\n",
      "/home/xliu0/anaconda3/envs/taco/lib/python3.6/site-packages/tensorflow/python/framework/dtypes.py:521: FutureWarning: Passing (type, 1) or '1type' as a synonym of type is deprecated; in a future version of numpy, it will be understood as (type, (1,)) / '(1,)type'.\n",
      "  _np_qint32 = np.dtype([(\"qint32\", np.int32, 1)])\n",
      "/home/xliu0/anaconda3/envs/taco/lib/python3.6/site-packages/tensorflow/python/framework/dtypes.py:526: FutureWarning: Passing (type, 1) or '1type' as a synonym of type is deprecated; in a future version of numpy, it will be understood as (type, (1,)) / '(1,)type'.\n",
      "  np_resource = np.dtype([(\"resource\", np.ubyte, 1)])\n"
     ]
    }
   ],
   "source": [
    "import random\n",
    "import numpy as np\n",
    "import torch\n",
    "import torch.utils.data\n",
    "import glob\n",
    "import layers\n",
    "from utils import load_wav_to_torch, load_filepaths_and_text\n",
    "from text import text_to_sequence\n",
    "import hparams\n",
    "import os\n",
    "from pathlib import Path\n",
    "hparams = hparams.create_hparams()\n",
    "import warnings\n",
    "warnings.filterwarnings('ignore')\n"
   ]
  },
  {
   "cell_type": "code",
   "execution_count": 2,
   "metadata": {
    "collapsed": true
   },
   "outputs": [],
   "source": [
    "stft = layers.TacotronSTFT(\n",
    "            hparams.filter_length, hparams.hop_length, hparams.win_length,\n",
    "            hparams.n_mel_channels, hparams.sampling_rate, hparams.mel_fmin,\n",
    "            hparams.mel_fmax)\n",
    "\n",
    "def get_mel(filename):\n",
    "    audio, sampling_rate = load_wav_to_torch(filename)\n",
    "    if sampling_rate != stft.sampling_rate:\n",
    "        raise ValueError(\"{} {} SR doesn't match target {} SR\".format(\n",
    "            sampling_rate, stft.sampling_rate))\n",
    "    audio_norm = audio / hparams.max_wav_value\n",
    "    audio_norm = audio_norm.unsqueeze(0)\n",
    "    audio_norm = torch.autograd.Variable(audio_norm, requires_grad=False)\n",
    "    melspec = stft.mel_spectrogram(audio_norm)\n",
    "    melspec = torch.squeeze(melspec, 0)\n",
    "    melspec = melspec.data.numpy()\n",
    "    return melspec\n",
    "\n",
    "def save_spec(data, filepath, output_filename):\n",
    "    if not(os.path.exists(filepath)):\n",
    "        Path(filepath).mkdir(parents=True)\n",
    "    np.save(os.path.join(filepath, output_filename), data)\n"
   ]
  },
  {
   "cell_type": "markdown",
   "metadata": {},
   "source": [
    "## IEMOCAP\n"
   ]
  },
  {
   "cell_type": "code",
   "execution_count": null,
   "metadata": {},
   "outputs": [],
   "source": [
    "SESS_PATH = '/data3/IEMOCAP/IEMOCAP_full_release/Session1/sentences/wav/'\n",
    "for sess in list(range(1,6)):\n",
    "    temp_sess_path = SESS_PATH.replace('1', str(sess))\n",
    "    all_wav_path = sorted(glob.glob(temp_sess_path + '*/*.wav'))\n",
    "    for wav_path in all_wav_path:\n",
    "        spec = get_mel(wav_path)\n",
    "        output_filename = wav_path.split('/')[-1].split('.')[0]\n",
    "        spec_path = Path(wav_path.replace('IEMOCAP_full_release', 'IEMOCAP_full_release_spec'))\n",
    "        spec_path = str(spec_path.parent)\n",
    "        save_spec(spec, spec_path, output_filename)\n",
    "    print('Finished Session ', str(sess))\n",
    "        "
   ]
  },
  {
   "cell_type": "markdown",
   "metadata": {},
   "source": [
    "## VCTK"
   ]
  },
  {
   "cell_type": "code",
   "execution_count": null,
   "metadata": {},
   "outputs": [],
   "source": [
    "VCTK_PATH = '/data3/VCTK/VCTK-Corpus/wav48/'\n",
    "for wav_path in sorted(glob.glob(VCTK_PATH + '*/*.wav')):\n",
    "    spec = get_mel(wav_path)\n",
    "    output_filename = wav_path.split('/')[-1].split('.')[0]\n",
    "    spec_path = Path(wav_path.replace('/VCTK/', '/VCTK_spec/'))\n",
    "    spec_path = str(spec_path.parent)\n",
    "    save_spec(spec, spec_path, output_filename)    "
   ]
  },
  {
   "cell_type": "markdown",
   "metadata": {},
   "source": [
    "# LJ"
   ]
  },
  {
   "cell_type": "code",
   "execution_count": null,
   "metadata": {},
   "outputs": [],
   "source": [
    "LJ_PATH = '/data3/LJSpeech-1.1/wavs/'\n",
    "for wav_path in sorted(glob.glob(LJ_PATH + '*.wav')):\n",
    "    spec = get_mel(wav_path)\n",
    "    output_filename = wav_path.split('/')[-1].split('.')[0]\n",
    "    spec_path = Path(wav_path.replace('/LJSpeech-1.1/', '/LJSpeech-1.1-spec/'))\n",
    "    spec_path = str(spec_path.parent)\n",
    "    save_spec(spec, spec_path, output_filename)\n"
   ]
  }
 ],
 "metadata": {
  "kernelspec": {
   "display_name": "taco",
   "language": "python",
   "name": "myenv"
  },
  "language_info": {
   "codemirror_mode": {
    "name": "ipython",
    "version": 3
   },
   "file_extension": ".py",
   "mimetype": "text/x-python",
   "name": "python",
   "nbconvert_exporter": "python",
   "pygments_lexer": "ipython3",
   "version": "3.6.9"
  }
 },
 "nbformat": 4,
 "nbformat_minor": 2
}
